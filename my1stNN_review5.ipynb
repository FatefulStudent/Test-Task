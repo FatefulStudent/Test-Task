{
 "cells": [
  {
   "cell_type": "markdown",
   "metadata": {},
   "source": [
    "### Import dependencies"
   ]
  },
  {
   "cell_type": "code",
   "execution_count": 1,
   "metadata": {},
   "outputs": [
    {
     "name": "stderr",
     "output_type": "stream",
     "text": [
      "/Users/maksim/anaconda3/lib/python3.6/site-packages/h5py/__init__.py:36: FutureWarning: Conversion of the second argument of issubdtype from `float` to `np.floating` is deprecated. In future, it will be treated as `np.float64 == np.dtype(float).type`.\n",
      "  from ._conv import register_converters as _register_converters\n"
     ]
    }
   ],
   "source": [
    "import matplotlib.pyplot as plt\n",
    "%matplotlib inline\n",
    "\n",
    "import tensorflow as tf\n",
    "import numpy as np\n",
    "from sklearn.metrics import roc_auc_score, accuracy_score"
   ]
  },
  {
   "cell_type": "markdown",
   "metadata": {},
   "source": [
    "### Prepare data"
   ]
  },
  {
   "cell_type": "code",
   "execution_count": 2,
   "metadata": {
    "collapsed": true
   },
   "outputs": [
    {
     "name": "stderr",
     "output_type": "stream",
     "text": [
      "Using TensorFlow backend.\n"
     ]
    }
   ],
   "source": [
    "from preprocessed_mnist import load_dataset\n",
    "X_train, y_train, X_val, y_val, X_test, y_test = load_dataset()\n",
    "\n",
    "def flatten_images(x):\n",
    "    return x.reshape(x.shape[0], x.shape[1] * x.shape[2])\n",
    "\n",
    "X_train = flatten_images(X_train)\n",
    "X_test = flatten_images(X_test)\n",
    "\n",
    "def labels_to_mask(y):\n",
    "    result = np.zeros((y.size, 10))\n",
    "    result[np.arange(y.size), y] = 1\n",
    "    return result\n",
    "\n",
    "y_train_mask = labels_to_mask(y_train)\n",
    "y_test_mask = labels_to_mask(y_test)\n",
    "\n"
   ]
  },
  {
   "cell_type": "markdown",
   "metadata": {},
   "source": [
    "### A script for testing algorithms"
   ]
  },
  {
   "cell_type": "code",
   "execution_count": 3,
   "metadata": {
    "collapsed": true
   },
   "outputs": [],
   "source": [
    "def batching(n, size=512):\n",
    "    for i in range(n):\n",
    "        batch_index = np.random.choice(np.arange(X_train.shape[0]), size)\n",
    "        yield (X_train[batch_index], y_train_mask[batch_index])\n",
    "\n",
    "def run(algorithm, iters=250, show_graph=True):\n",
    "    input_X = tf.placeholder('float64', (None, X_train.shape[1]), name=\"X\")\n",
    "    input_y = tf.placeholder('int32', (None, 10), name=\"y\")\n",
    "\n",
    "    optimizer, model, loss = algorithm(input_X, input_y)\n",
    "\n",
    "    with tf.Session() as sess:\n",
    "        sess.run(tf.global_variables_initializer())\n",
    "\n",
    "        train_losses = []\n",
    "        test_losses = []\n",
    "\n",
    "        for X, y in batching(iters):\n",
    "            \n",
    "            if show_graph:\n",
    "                train_losses.append(sess.run(loss, {input_X: X, input_y: y}))\n",
    "                test_losses.append(sess.run(loss, {input_X: X_test, input_y: y_test_mask}))\n",
    "            \n",
    "            sess.run(optimizer, {input_X: X, input_y: y})\n",
    "\n",
    "        y_pred = sess.run(model, {input_X: X_test})\n",
    "\n",
    "    if show_graph:\n",
    "        x = range(iters)\n",
    "        plt.plot(x, train_losses, 'b')\n",
    "        plt.plot(x, test_losses, 'g')\n",
    "        plt.show()\n",
    "\n",
    "    print(\"accuracy:\", accuracy_score(y_pred, y_test))"
   ]
  },
  {
   "cell_type": "markdown",
   "metadata": {},
   "source": [
    "### Two layer neural network\n",
    "\n",
    "Just as suggested, I will make:\n",
    "\n",
    "$$ input -> dense_1 -> sigmoid -> dense_2 -> softmax -> output$$\n",
    "\n",
    "$dense_1$ is performed with $W_1$ ($n_{features} * n_{neurons}$) and $b_1$.\n",
    "\n",
    "$dense_2$ - with $W_2$ ($n_{neurons} * n_{classes}$) and $b_2$.\n",
    "\n",
    "I'll take $n_{neurons} = 128$."
   ]
  },
  {
   "cell_type": "code",
   "execution_count": 4,
   "metadata": {
    "collapsed": true
   },
   "outputs": [],
   "source": [
    "def two_layer_nn(tensorX, tensorY, n_classes=10, n_neurons=128):\n",
    "    n_features = int(tensorX.shape[1])\n",
    "    w1 = tf.Variable(tf.truncated_normal(shape=(n_features, n_neurons), stddev=0.001, dtype='float64'), \n",
    "                     dtype='float64', name=\"W1\")\n",
    "    w2 = tf.Variable(tf.truncated_normal(shape=(n_neurons, n_classes), stddev=0.001, dtype='float64'), \n",
    "                     dtype='float64', name=\"W2\")\n",
    "    b1 = tf.Variable(1., dtype='float64', name=\"b1\")\n",
    "    b2 = tf.Variable(1., dtype='float64', name=\"b2\")\n",
    "    \n",
    "    activation1 = tf.squeeze(tf.sigmoid(tf.matmul(tensorX, w1) + b1))\n",
    "    \n",
    "    softmax = tf.nn.softmax(tf.matmul(activation1, w2) + b2)\n",
    "    loss = tf.losses.softmax_cross_entropy(tensorY, softmax)\n",
    "    optimizer = tf.train.AdamOptimizer(learning_rate=0.005).minimize(loss, var_list=[w1, w2, b1, b2])\n",
    "    \n",
    "    model = tf.argmax(softmax, axis=1)\n",
    "    \n",
    "    return (optimizer, model, loss)"
   ]
  },
  {
   "cell_type": "code",
   "execution_count": 5,
   "metadata": {},
   "outputs": [
    {
     "data": {
      "image/png": "[encoded data removed]",
      "text/plain": [
       "<Figure size 432x288 with 1 Axes>"
      ]
     },
     "metadata": {},
     "output_type": "display_data"
    },
    {
     "name": "stdout",
     "output_type": "stream",
     "text": [
      "accuracy: 0.9587\n",
      "CPU times: user 3min 52s, sys: 12.6 s, total: 4min 5s\n",
      "Wall time: 1min 19s\n"
     ]
    }
   ],
   "source": [
    "%%time\n",
    "run(two_layer_nn, iters=750)"
   ]
  }
 ],
 "metadata": {
  "kernelspec": {
   "display_name": "Python 3",
   "language": "python",
   "name": "python3"
  },
  "language_info": {
   "codemirror_mode": {
    "name": "ipython",
    "version": 3
   },
   "file_extension": ".py",
   "mimetype": "text/x-python",
   "name": "python",
   "nbconvert_exporter": "python",
   "pygments_lexer": "ipython3",
   "version": "3.6.2"
  }
 },
 "nbformat": 4,
 "nbformat_minor": 2
}
